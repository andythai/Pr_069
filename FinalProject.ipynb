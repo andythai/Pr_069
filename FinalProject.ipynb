{
 "cells": [
  {
   "cell_type": "code",
   "execution_count": 186,
   "metadata": {
    "collapsed": true
   },
   "outputs": [],
   "source": [
    "# ALLEGHENY DATASET ANALYSIS, GROUP 69\n",
    "    # Andy Thai           - A12112599\n",
    "    # Johnson Pang        -\n",
    "    # Ronald Baldonado    - A11948171\n",
    "    # Haoyuan Wang        -"
   ]
  },
  {
   "cell_type": "markdown",
   "metadata": {},
   "source": [
    "# Introduction and Background:\n",
    "\n",
    "Preventing and understanding the underlying causes of car accidents continues to be a key public safety issue. Car accidents remain commonplace throughout the United States, retaining its status as a significant cause of death. Thus, it is important that this issue be studied as to further prevent deaths and property damage.\n",
    " \n",
    "Analysts point to a myriad of reasons as to why car accidents occur. According to the Critical Reasons for Crashes Investigated in the National Motor Vehicle Crash Causation Survey (2015), for the 5470 weighted samples, about 50% of the critical reasons for car crashes involve slick roads (loose debris, ice, etc), while fog/rain/snow are involved in around 4% of crashes. Note, however, that these given reasons are not the “primary causes” of the car crashes, just the “immediate reason for the critical pre-crash event and is often the last failure in the causal chain of events leading up to the crash.”\n",
    " \n",
    "In addition, according to the Road Weather Management Program’s “How Do Weather Events Impact Roads?”, precipitation and fog causes a lessens vehicle traction and environmental visibility. The website also states that 22% of crashes from 2005-2014 involve poor weather, including slick road conditions. Wet pavement, rain, and snow/sleet are involved in 73%, 46% and 17%, of weather related crashes, respectively\n",
    "\n",
    "<h3>Hypothesis:</h3>\n",
    "\n",
    "Given this background information, we hope to find patterns of interest between weather, environmental conditions and poor driving, in regards to injury severity and and the amount of injuries within crashes in Allegheny. By analyzing these patterns, we hope to provide more insight into car accidents and contribute to preventing more unnecessary destruction."
   ]
  },
  {
   "cell_type": "code",
   "execution_count": 187,
   "metadata": {
    "collapsed": true
   },
   "outputs": [],
   "source": [
    "# General import statements\n",
    "import numpy as np\n",
    "import pandas as pd\n",
    "import math\n",
    "import matplotlib.pyplot as plt\n",
    "\n",
    "# SciPy\n",
    "import scipy.stats as stats\n",
    "from scipy.stats import normaltest\n",
    "\n",
    "# Statmodels & patsy\n",
    "import patsy\n",
    "import statsmodels.api as sm\n",
    "\n",
    "# Gmaps API\n",
    "import gmaps\n",
    "api = \"\"\n",
    "gmaps.configure(api_key=api)\n",
    "\n",
    "# Ignore warnings\n",
    "import warnings\n",
    "warnings.filterwarnings('ignore')"
   ]
  },
  {
   "cell_type": "markdown",
   "metadata": {},
   "source": [
    "# Data Description\n",
    "The dataset we will be using for our project will be taken directly from <https://catalog.data.gov/dataset/allegheny-county-crash-data>. \n",
    "\n",
    "Specifically, the “2016 Allegheny County Crash Data” is a sizeable dataset with 187 features for each observation including the latitude and longitude location of the crash, the street name, the weather conditions, and various other driving/driver conditions that may contribute to the car crash occurring. The total amount of observations within the 2016 data is about 12,900 observations throughout the year. "
   ]
  },
  {
   "cell_type": "code",
   "execution_count": 188,
   "metadata": {
    "collapsed": true
   },
   "outputs": [],
   "source": [
    "# 2016 crash data\n",
    "url_2016 = 'https://data.wprdc.org/dataset/3130f583-9499-472b-bb5a-f63a6ff6059a/resource/9ccea350-e062-45e2-ade5-45e9378f40d2/download/reordered2016crashes.csv'\n",
    "\n",
    "# 2004 - 2016 crash data\n",
    "# Not used but here for potential reference\n",
    "url_all = 'https://data.wprdc.org/dataset/3130f583-9499-472b-bb5a-f63a6ff6059a/resource/2c13021f-74a9-4289-a1e5-fe0472c89881/download/all-crashes2004-2016.csv'\n",
    "\n",
    "# Load dataframe\n",
    "df_original = pd.read_csv(url_2016)"
   ]
  },
  {
   "cell_type": "markdown",
   "metadata": {},
   "source": [
    "# Data Cleaning and Preprocessing\n",
    "Before we do any work on the data, we must determine what categories that may be of relevant interest to our analysis. We refer to the data dictionary (provided at: <https://data.wprdc.org/dataset/3130f583-9499-472b-bb5a-f63a6ff6059a/resource/4df9a3c6-34c1-45a5-936e-80758f9f38a5/download/allegheny-county-crash-data-dictionary.pdf>) to find out what each category's definition and the meanings of their corresponding values.\n",
    "\n",
    "\n",
    "We separate potentially useful categories by relation for indexing below, and combine them all into a final trimmed dataset containing only the categories we deem of interest. Then, we drop the null data values.\n",
    "\n",
    "We aim to use the MAX_SEVERITY_LEVEL category. However, the values are not sorted in ascending order; the values go by:\n",
    "\n",
    "0 - Not injured\n",
    "\n",
    "1 - Killed\n",
    "\n",
    "2 - Major injury\n",
    "\n",
    "3 - Moderate injury\n",
    "\n",
    "4 - Minor injury\n",
    "\n",
    "8 - Injury/ Unknown Severity\n",
    "\n",
    "9 - Unknown\n",
    "\n",
    "\n",
    "We rectify this issue by reordering the values so they match the following schema:\n",
    "\n",
    "0 - Not injured\n",
    "\n",
    "1 - Minor injury\n",
    "\n",
    "2 - Moderate injury\n",
    "\n",
    "3 - Major injury\n",
    "\n",
    "4 - Killed\n",
    "\n",
    "8 - Injury/ Unknown Severity\n",
    "\n",
    "9 - Unknown"
   ]
  },
  {
   "cell_type": "code",
   "execution_count": 189,
   "metadata": {
    "collapsed": true
   },
   "outputs": [],
   "source": [
    "# Create related categories for indexing\n",
    "category_time = [\"CRASH_YEAR\", \"CRASH_MONTH\", \"TIME_OF_DAY\", \"HOUR_OF_DAY\"]\n",
    "\n",
    "category_conditions = [\"ILLUMINATION\", \"WEATHER\", \"ROAD_CONDITION\"]\n",
    "\n",
    "category_type = [\"COLLISION_TYPE\", \"URBAN_RURAL\"]\n",
    "\n",
    "category_people_count = [\"PERSON_COUNT\", \"VEHICLE_COUNT\"] \n",
    "\n",
    "category_injury = [\"FATAL_COUNT\", \"INJURY_COUNT\", \"MAJ_INJ_COUNT\", \"MOD_INJ_COUNT\", \"MIN_INJ_COUNT\", \\\n",
    "                   \"UNK_INJ_DEG_COUNT\", \"MAX_SEVERITY_LEVEL\", \"FATAL_OR_MAJ_INJ\"]\n",
    "\n",
    "category_belt = [\"UNBELTED\", \"UNBELTED_OCC_COUNT\", \"UNB_DEATH_COUNT\", \"UNB_MAJ_INJ_COUNT\", \"BELTED_DEATH_COUNT\", \\\n",
    "                 \"BELTED_MAJ_INJ_COUNT\"]\n",
    "\n",
    "category_age = [\"DRIVER_COUNT_16YR\", \"DRIVER_COUNT_17YR\", \"DRIVER_COUNT_18YR\", \"DRIVER_COUNT_19YR\", \\\n",
    "                \"DRIVER_COUNT_20YR\", \"DRIVER_COUNT_50_64YR\", \"DRIVER_COUNT_65_74YR\", \"DRIVER_COUNT_75PLUS\"]\n",
    "\n",
    "category_location = [\"LATITUDE\", \"LONGITUDE\", \"DEC_LAT\", \"DEC_LONG\", \"STREET_NAME\"]\n",
    "\n",
    "category_alcohol = [\"ALCOHOL_RELATED\", \"DRINKING_DRIVER\", \"UNDERAGE_DRNK_DRV\", \"IMPAIRED_DRIVER\"]\n",
    "\n",
    "category_attention = [\"CELL_PHONE\", \"DISTRACTED\", \"FATIGUE_ASLEEP\"]\n",
    "\n",
    "category_speed = [\"LIMIT_65MPH\", \"SPEEDING\", \"SPEEDING_RELATED\", \"AGGRESSIVE_DRIVING\"]\n",
    "\n",
    "# Combine all categories\n",
    "categories_all = category_time + category_conditions + category_type + category_people_count + \\\n",
    "                category_injury + category_belt + category_age + category_location + \\\n",
    "                category_alcohol + category_attention + category_speed\n",
    "\n",
    "# Trim original dataframe into relevant data\n",
    "df_trimmed = df_original[categories_all]"
   ]
  },
  {
   "cell_type": "code",
   "execution_count": 190,
   "metadata": {
    "collapsed": true
   },
   "outputs": [],
   "source": [
    "# Drop null values\n",
    "df_trimmed.dropna()\n",
    "\n",
    "# Reorder severity levels in ascending order; 5 is not used in the dictionary and functions as a temp value\n",
    "df_trimmed['MAX_SEVERITY_LEVEL'] = df_trimmed['MAX_SEVERITY_LEVEL'].replace(1, 5)\n",
    "df_trimmed['MAX_SEVERITY_LEVEL'] = df_trimmed['MAX_SEVERITY_LEVEL'].replace(4, 1)\n",
    "df_trimmed['MAX_SEVERITY_LEVEL'] = df_trimmed['MAX_SEVERITY_LEVEL'].replace(5, 4)\n",
    "df_trimmed['MAX_SEVERITY_LEVEL'] = df_trimmed['MAX_SEVERITY_LEVEL'].replace(2, 5)\n",
    "df_trimmed['MAX_SEVERITY_LEVEL'] = df_trimmed['MAX_SEVERITY_LEVEL'].replace(3, 2)\n",
    "df_trimmed['MAX_SEVERITY_LEVEL'] = df_trimmed['MAX_SEVERITY_LEVEL'].replace(5, 3)"
   ]
  },
  {
   "cell_type": "markdown",
   "metadata": {},
   "source": [
    "# Data Visualization\n",
    "\n",
    "Below we will run code on our data and visualize the information into a more visually readable format."
   ]
  },
  {
   "cell_type": "markdown",
   "metadata": {},
   "source": [
    "<h3>Google Maps Heatmap</h3>\n",
    "\n",
    "The code below outputs a Google Maps heatmap of the latitudes and longitudes of all of the crash locations within the dataset. \n",
    "\n",
    "This is accomplished via the gmaps API located at <https://github.com/pbugnion/gmaps>. "
   ]
  },
  {
   "cell_type": "code",
   "execution_count": 191,
   "metadata": {},
   "outputs": [
    {
     "name": "stderr",
     "output_type": "stream",
     "text": [
      "Widget Javascript not detected.  It may not be installed or enabled properly.\n"
     ]
    },
    {
     "data": {
      "application/vnd.jupyter.widget-view+json": {
       "model_id": "236a3008882240fdbed4dfbd4901cd59"
      }
     },
     "metadata": {},
     "output_type": "display_data"
    }
   ],
   "source": [
    "# Get latitudes and longitudes of accident locations\n",
    "df_location = df_trimmed[category_location]\n",
    "df_location_dec = df_location[['DEC_LAT','DEC_LONG']]\n",
    "loc_series = df_location_dec.as_matrix(['DEC_LAT','DEC_LONG'])\n",
    "\n",
    "# Do not plot NaN values on gmaps\n",
    "loc_list = []\n",
    "for i in loc_series:\n",
    "    if( not math.isnan(i[0]) and not math.isnan(i[1])):\n",
    "        loc_list.append((i[0],i[1]))\n",
    "\n",
    "# Create gmaps figure and show\n",
    "fig = gmaps.figure()\n",
    "heatmap_layer = gmaps.heatmap_layer(loc_list)\n",
    "fig.add_layer(heatmap_layer)\n",
    "fig"
   ]
  },
  {
   "cell_type": "markdown",
   "metadata": {},
   "source": [
    "The above code may not display a gmaps figure when viewed on GitHub. \n",
    "\n",
    "Attached below are screenshots of the gmaps figure.\n",
    "\n",
    "ATTACH GMAPS FIGURES HERE"
   ]
  },
  {
   "cell_type": "markdown",
   "metadata": {},
   "source": [
    "# DRUNK DRIVING"
   ]
  },
  {
   "cell_type": "markdown",
   "metadata": {},
   "source": [
    "<h3>Drunk Driving with Maximum Injury Severity Levels</h3>\n",
    "\n",
    "Below we attempt to find relations between drunk driving and injury severity levels within Allegheny accidents."
   ]
  },
  {
   "cell_type": "code",
   "execution_count": 192,
   "metadata": {},
   "outputs": [],
   "source": [
    "# Get drinking categories\n",
    "df_isDrunk = df_trimmed[category_alcohol + category_injury]\n",
    "df_isDrunk = df_isDrunk[[\"DRINKING_DRIVER\",\"MAX_SEVERITY_LEVEL\"]]\n",
    "\n",
    "# Get rid of severity levels over 4 (redundant information)\n",
    "df_isDrunk = df_isDrunk[df_isDrunk.MAX_SEVERITY_LEVEL <= 4]"
   ]
  },
  {
   "cell_type": "code",
   "execution_count": 193,
   "metadata": {},
   "outputs": [
    {
     "data": {
      "image/png": "[encoded data removed]",
      "text/plain": [
       "<matplotlib.figure.Figure at 0x225de5eba58>"
      ]
     },
     "metadata": {},
     "output_type": "display_data"
    }
   ],
   "source": [
    "# Plots not drunk histogram\n",
    "df_NotDrunk = df_isDrunk[df_isDrunk[\"DRINKING_DRIVER\"] == 0]\n",
    "graphNotDrunk = df_NotDrunk[\"MAX_SEVERITY_LEVEL\"].hist(bins=range(0,6), align='left', rwidth=0.75, color='green', normed=1)\n",
    "\n",
    "# Set labels\n",
    "graphNotDrunk.set_ylim([0,0.7])\n",
    "plt.xticks([0, 1, 2, 3, 4], drunk_driving_x)\n",
    "plt.ylabel('Frequency')\n",
    "plt.title('Frequency of Injuries in Non-drunk Driving')\n",
    "\n",
    "# Show graph\n",
    "plt.show()"
   ]
  },
  {
   "cell_type": "code",
   "execution_count": 194,
   "metadata": {},
   "outputs": [
    {
     "data": {
      "image/png": "[encoded data removed]",
      "text/plain": [
       "<matplotlib.figure.Figure at 0x225df85cfd0>"
      ]
     },
     "metadata": {},
     "output_type": "display_data"
    }
   ],
   "source": [
    "# Get if driver was drunk\n",
    "df_Drunk = df_isDrunk[df_isDrunk['DRINKING_DRIVER'] == 1]\n",
    "\n",
    "# Plot\n",
    "graphDrunk = df_Drunk[\"MAX_SEVERITY_LEVEL\"].hist(bins=range(0,6), align='left', rwidth=0.75, color='red', normed=1)\n",
    "\n",
    "# Set labels\n",
    "drunk_driving_x = ['No Injury','Minor', 'Moderate', 'Major', 'Death']\n",
    "graphDrunk.set_ylim([0,0.7])\n",
    "plt.xticks([0, 1, 2, 3, 4], drunk_driving_x)\n",
    "plt.ylabel('Frequency')\n",
    "plt.title('Frequency of Injuries in Drunk Driving')\n",
    "\n",
    "# Show graph\n",
    "plt.show()"
   ]
  },
  {
   "cell_type": "markdown",
   "metadata": {},
   "source": [
    "<h3>Linear Classifier: Maximum Injury Severity Level ~ Drunk Driving</h3>\n",
    "\n",
    "We run a linear classifier model on our dataset for drunk driving to see if we can find a sort of correlation."
   ]
  },
  {
   "cell_type": "code",
   "execution_count": 195,
   "metadata": {},
   "outputs": [
    {
     "name": "stdout",
     "output_type": "stream",
     "text": [
      "                            OLS Regression Results                            \n",
      "==============================================================================\n",
      "Dep. Variable:     MAX_SEVERITY_LEVEL   R-squared:                       0.004\n",
      "Model:                            OLS   Adj. R-squared:                  0.003\n",
      "Method:                 Least Squares   F-statistic:                     36.01\n",
      "Date:                Tue, 13 Jun 2017   Prob (F-statistic):           2.03e-09\n",
      "Time:                        18:54:04   Log-Likelihood:                -13215.\n",
      "No. Observations:               10087   AIC:                         2.643e+04\n",
      "Df Residuals:                   10085   BIC:                         2.645e+04\n",
      "Df Model:                           1                                         \n",
      "Covariance Type:            nonrobust                                         \n",
      "===================================================================================\n",
      "                      coef    std err          t      P>|t|      [95.0% Conf. Int.]\n",
      "-----------------------------------------------------------------------------------\n",
      "Intercept           0.5409      0.009     58.298      0.000         0.523     0.559\n",
      "DRINKING_DRIVER     0.2054      0.034      6.001      0.000         0.138     0.273\n",
      "==============================================================================\n",
      "Omnibus:                     2217.657   Durbin-Watson:                   2.003\n",
      "Prob(Omnibus):                  0.000   Jarque-Bera (JB):             3994.142\n",
      "Skew:                           1.437   Prob(JB):                         0.00\n",
      "Kurtosis:                       4.114   Cond. No.                         3.86\n",
      "==============================================================================\n",
      "\n",
      "Warnings:\n",
      "[1] Standard Errors assume that the covariance matrix of the errors is correctly specified.\n"
     ]
    }
   ],
   "source": [
    "# Runs linear classifier / t-test on data\n",
    "outcome, predictors = patsy.dmatrices('MAX_SEVERITY_LEVEL ~ DRINKING_DRIVER', df_isDrunk)\n",
    "\n",
    "# Use statsmodels to intialize the OLS model\n",
    "mod = sm.OLS(outcome, predictors)\n",
    "\n",
    "# Fit the model\n",
    "res = mod.fit()\n",
    "\n",
    "# Show results\n",
    "print(res.summary())"
   ]
  },
  {
   "cell_type": "markdown",
   "metadata": {},
   "source": [
    "# WEATHER"
   ]
  },
  {
   "cell_type": "markdown",
   "metadata": {},
   "source": [
    "<h3>Weather Conditions with Injury Count</h3>\n",
    "\n",
    "Below we run analysis on the data to see if we can find any patterns between weather conditions and injuries sustained in the average accident. First we run through the amount of injuries per weather condition."
   ]
  },
  {
   "cell_type": "code",
   "execution_count": 196,
   "metadata": {
    "collapsed": true
   },
   "outputs": [],
   "source": [
    "# Create dataframe for weather and injuries\n",
    "df_weather = df_trimmed[category_conditions + category_injury]"
   ]
  },
  {
   "cell_type": "code",
   "execution_count": 197,
   "metadata": {},
   "outputs": [
    {
     "data": {
      "text/plain": [
       "[0.592750331251183,\n",
       " 0.5340909090909091,\n",
       " 0.39436619718309857,\n",
       " 0.3852813852813853,\n",
       " 0.4594594594594595,\n",
       " 0.3157894736842105,\n",
       " 0.23076923076923078]"
      ]
     },
     "execution_count": 197,
     "metadata": {},
     "output_type": "execute_result"
    }
   ],
   "source": [
    "# Injury count with weather\n",
    "df_weather_inj = df_weather[['WEATHER','INJURY_COUNT']]\n",
    "\n",
    "# Calculate means for injury count\n",
    "df_weather_mean_inj = []\n",
    "df_weather_1_mean_inj =  df_weather[df_weather['WEATHER'] == 1]['INJURY_COUNT'].mean() # Good weather conditions \n",
    "df_weather_2_mean_inj =  df_weather[df_weather['WEATHER'] == 2]['INJURY_COUNT'].mean() # Rain\n",
    "df_weather_3_mean_inj =  df_weather[df_weather['WEATHER'] == 3]['INJURY_COUNT'].mean() # Hail\n",
    "df_weather_4_mean_inj =  df_weather[df_weather['WEATHER'] == 4]['INJURY_COUNT'].mean() # Snow\n",
    "df_weather_5_mean_inj =  df_weather[df_weather['WEATHER'] == 5]['INJURY_COUNT'].mean() # Fog\n",
    "df_weather_6_mean_inj =  df_weather[df_weather['WEATHER'] == 6]['INJURY_COUNT'].mean() # Rain and fog\n",
    "df_weather_7_mean_inj =  df_weather[df_weather['WEATHER'] == 7]['INJURY_COUNT'].mean() # Hail and fog\n",
    "\n",
    "# Append to list for injury\n",
    "df_weather_mean_inj.append(df_weather_1_mean_inj)\n",
    "df_weather_mean_inj.append(df_weather_2_mean_inj)\n",
    "df_weather_mean_inj.append(df_weather_3_mean_inj)\n",
    "df_weather_mean_inj.append(df_weather_4_mean_inj)\n",
    "df_weather_mean_inj.append(df_weather_5_mean_inj)\n",
    "df_weather_mean_inj.append(df_weather_6_mean_inj)\n",
    "df_weather_mean_inj.append(df_weather_7_mean_inj)\n",
    "\n",
    "# Show mean number of injuries per weather condition\n",
    "df_weather_mean_inj"
   ]
  },
  {
   "cell_type": "code",
   "execution_count": 198,
   "metadata": {},
   "outputs": [
    {
     "data": {
      "image/png": "[encoded data removed]",
      "text/plain": [
       "<matplotlib.figure.Figure at 0x225dff96d68>"
      ]
     },
     "metadata": {},
     "output_type": "display_data"
    }
   ],
   "source": [
    "# Bar graph of means of injuries from driving per weather condition\n",
    "x_lbls = ['None','Rain', 'Hail', 'Snow', 'Fog', 'Rain & Fog', 'Hail & Fog']\n",
    "y = df_weather_mean_inj\n",
    "\n",
    "plt.figure(figsize=(8,4))\n",
    "weather_mean_inj_plt = plt.bar(range(1, len(x_lbls) + 1), y, width=0.6, color='c')\n",
    "\n",
    "plt.xticks(range(1,len(x_lbls) + 1), x_lbls, size='small')\n",
    "plt.title(\"Mean Amount of Injuries Per Accident by Weather Condition\")\n",
    "plt.ylabel('Mean Injury Amounts Per Accident')\n",
    "plt.xlabel('Weather Condition')\n",
    "\n",
    "plt.show()"
   ]
  },
  {
   "cell_type": "markdown",
   "metadata": {},
   "source": [
    "<h3>Weather Conditions with Maximum Injury Severity Level</h3>\n",
    "\n",
    "Next, after looking at the mean amount of injuries per weather condition, we will look at the maximum injury severity levels per weather condition."
   ]
  },
  {
   "cell_type": "code",
   "execution_count": 199,
   "metadata": {},
   "outputs": [
    {
     "data": {
      "text/plain": [
       "[2.287999242854439,\n",
       " 2.099242424242424,\n",
       " 1.591549295774648,\n",
       " 1.8167388167388168,\n",
       " 1.1891891891891893,\n",
       " 1.4736842105263157,\n",
       " 1.8461538461538463]"
      ]
     },
     "execution_count": 199,
     "metadata": {},
     "output_type": "execute_result"
    }
   ],
   "source": [
    "# Max injury severity level with weather\n",
    "df_weather_sev = df_weather[['WEATHER', 'MAX_SEVERITY_LEVEL']]\n",
    "df_weather_sev = df_weather_sev[df_weather_sev['MAX_SEVERITY_LEVEL'] <= 4] # Severity level 8-9 is unknown and redundant\n",
    "\n",
    "# Calculate means for max severity\n",
    "df_weather_mean_sev = []\n",
    "df_weather_1_mean_sev =  df_weather[df_weather['WEATHER'] == 1]['MAX_SEVERITY_LEVEL'].mean() # Good weather conditions \n",
    "df_weather_2_mean_sev =  df_weather[df_weather['WEATHER'] == 2]['MAX_SEVERITY_LEVEL'].mean() # Rain\n",
    "df_weather_3_mean_sev =  df_weather[df_weather['WEATHER'] == 3]['MAX_SEVERITY_LEVEL'].mean() # Hail\n",
    "df_weather_4_mean_sev =  df_weather[df_weather['WEATHER'] == 4]['MAX_SEVERITY_LEVEL'].mean() # Snow\n",
    "df_weather_5_mean_sev =  df_weather[df_weather['WEATHER'] == 5]['MAX_SEVERITY_LEVEL'].mean() # Fog\n",
    "df_weather_6_mean_sev =  df_weather[df_weather['WEATHER'] == 6]['MAX_SEVERITY_LEVEL'].mean() # Rain and fog\n",
    "df_weather_7_mean_sev =  df_weather[df_weather['WEATHER'] == 7]['MAX_SEVERITY_LEVEL'].mean() # Hail and fog\n",
    "\n",
    "# Append to list for max severity\n",
    "df_weather_mean_sev.append(df_weather_1_mean_sev)\n",
    "df_weather_mean_sev.append(df_weather_2_mean_sev)\n",
    "df_weather_mean_sev.append(df_weather_3_mean_sev)\n",
    "df_weather_mean_sev.append(df_weather_4_mean_sev)\n",
    "df_weather_mean_sev.append(df_weather_5_mean_sev)\n",
    "df_weather_mean_sev.append(df_weather_6_mean_sev)\n",
    "df_weather_mean_sev.append(df_weather_7_mean_sev)\n",
    "\n",
    "# Show mean maximum injury severity level per weather condition\n",
    "df_weather_mean_sev"
   ]
  },
  {
   "cell_type": "code",
   "execution_count": 200,
   "metadata": {},
   "outputs": [
    {
     "data": {
      "image/png": "[encoded data removed]",
      "text/plain": [
       "<matplotlib.figure.Figure at 0x225de8afbe0>"
      ]
     },
     "metadata": {},
     "output_type": "display_data"
    }
   ],
   "source": [
    "# Bar graph of means of max injury severity from driving per weather condition\n",
    "x_lbls = ['None','Rain', 'Hail', 'Snow', 'Fog', 'Rain & Fog', 'Hail & Fog']\n",
    "y = df_weather_mean_sev\n",
    "\n",
    "plt.figure(figsize=(8,4))\n",
    "weather_mean_inj_plt = plt.bar(range(1, len(x_lbls) + 1), y, width=0.6, color='purple')\n",
    "\n",
    "plt.xticks(range(1,len(x_lbls) + 1), x_lbls, size='small')\n",
    "plt.title(\"Mean Max. Injury Severity Per Accident by Weather Condition\")\n",
    "plt.ylabel('Mean Max. Injury Severity Per Accident')\n",
    "plt.xlabel('Weather Condition')\n",
    "\n",
    "plt.show()"
   ]
  },
  {
   "cell_type": "markdown",
   "metadata": {},
   "source": [
    "<h3>Weather with Aggressive Driving</h3>\n",
    "We will analyze the weather conditions with reports of aggressive driving in accidents next. "
   ]
  },
  {
   "cell_type": "code",
   "execution_count": 201,
   "metadata": {
    "collapsed": true
   },
   "outputs": [],
   "source": [
    "# Create dataframe for weather with aggressive driving\n",
    "df_weather_speed = df_trimmed[category_conditions + category_speed]"
   ]
  },
  {
   "cell_type": "code",
   "execution_count": 202,
   "metadata": {},
   "outputs": [
    {
     "data": {
      "text/plain": [
       "[0.48485708877531708,\n",
       " 0.55227272727272725,\n",
       " 0.46478873239436619,\n",
       " 0.46897546897546899,\n",
       " 0.48648648648648651,\n",
       " 0.42105263157894735,\n",
       " 0.38461538461538464]"
      ]
     },
     "execution_count": 202,
     "metadata": {},
     "output_type": "execute_result"
    }
   ],
   "source": [
    "# Weather with aggressive driving\n",
    "df_weather_aggressive = df_weather_speed[['WEATHER','AGGRESSIVE_DRIVING']]\n",
    "\n",
    "# Calculate aggressive ratios\n",
    "df_weather_agg_ratio = []\n",
    "\n",
    "# Aggressive driving for good weather conditions\n",
    "df_weather_1_agg = df_weather_aggressive[df_weather_aggressive['WEATHER'] == 1]['AGGRESSIVE_DRIVING'] \n",
    "df_weather_1_agg_ratio = df_weather_1_agg.value_counts()[1] / (df_weather_1_agg.value_counts()[0] + df_weather_1_agg.value_counts()[1])\n",
    "\n",
    "# Aggressive driving for rainy weather conditions\n",
    "df_weather_2_agg = df_weather_aggressive[df_weather_aggressive['WEATHER'] == 2]['AGGRESSIVE_DRIVING'] \n",
    "df_weather_2_agg_ratio = df_weather_2_agg.value_counts()[1] / (df_weather_2_agg.value_counts()[0] + df_weather_2_agg.value_counts()[1])\n",
    "\n",
    "# Aggressive driving for hailing weather conditions\n",
    "df_weather_3_agg = df_weather_aggressive[df_weather_aggressive['WEATHER'] == 3]['AGGRESSIVE_DRIVING'] \n",
    "df_weather_3_agg_ratio = df_weather_3_agg.value_counts()[1] / (df_weather_3_agg.value_counts()[0] + df_weather_3_agg.value_counts()[1])\n",
    "\n",
    "# Aggressive driving for snowy weather conditions\n",
    "df_weather_4_agg = df_weather_aggressive[df_weather_aggressive['WEATHER'] == 4]['AGGRESSIVE_DRIVING'] \n",
    "df_weather_4_agg_ratio = df_weather_4_agg.value_counts()[1] / (df_weather_4_agg.value_counts()[0] + df_weather_4_agg.value_counts()[1])\n",
    "\n",
    "# Aggressive driving for foggy weather conditions\n",
    "df_weather_5_agg = df_weather_aggressive[df_weather_aggressive['WEATHER'] == 5]['AGGRESSIVE_DRIVING'] \n",
    "df_weather_5_agg_ratio = df_weather_5_agg.value_counts()[1] / (df_weather_5_agg.value_counts()[0] + df_weather_5_agg.value_counts()[1])\n",
    "\n",
    "# Aggressive driving for rainy and foggy weather conditions\n",
    "df_weather_6_agg = df_weather_aggressive[df_weather_aggressive['WEATHER'] == 6]['AGGRESSIVE_DRIVING'] \n",
    "df_weather_6_agg_ratio = df_weather_6_agg.value_counts()[1] / (df_weather_6_agg.value_counts()[0] + df_weather_6_agg.value_counts()[1])\n",
    "\n",
    "# Aggressive driving for hailing and foggy weather conditions\n",
    "df_weather_7_agg = df_weather_aggressive[df_weather_aggressive['WEATHER'] == 7]['AGGRESSIVE_DRIVING'] \n",
    "df_weather_7_agg_ratio = df_weather_7_agg.value_counts()[1] / (df_weather_7_agg.value_counts()[0] + df_weather_7_agg.value_counts()[1])\n",
    "\n",
    "# Append to list\n",
    "df_weather_agg_ratio.append(df_weather_1_agg_ratio)\n",
    "df_weather_agg_ratio.append(df_weather_2_agg_ratio)\n",
    "df_weather_agg_ratio.append(df_weather_3_agg_ratio)\n",
    "df_weather_agg_ratio.append(df_weather_4_agg_ratio)\n",
    "df_weather_agg_ratio.append(df_weather_5_agg_ratio)\n",
    "df_weather_agg_ratio.append(df_weather_6_agg_ratio)\n",
    "df_weather_agg_ratio.append(df_weather_7_agg_ratio)\n",
    "\n",
    "# Print out ratios per weather condition\n",
    "df_weather_agg_ratio"
   ]
  },
  {
   "cell_type": "code",
   "execution_count": 203,
   "metadata": {},
   "outputs": [
    {
     "data": {
      "image/png": "[encoded data removed]",
      "text/plain": [
       "<matplotlib.figure.Figure at 0x225dfcb9c18>"
      ]
     },
     "metadata": {},
     "output_type": "display_data"
    }
   ],
   "source": [
    "#Bar Graph of ratios of aggressive driving per weather condition\n",
    "x_lbls = ['None','Rain', 'Hail', 'Snow', 'Fog', 'Rain & Fog', 'Hail & Fog']\n",
    "y = df_weather_agg_ratio\n",
    "plt.figure(figsize=(8,4))\n",
    "weather_agg_plt = plt.bar(range(1, len(x_lbls) + 1), y, width=0.6, color='c')\n",
    "plt.xticks(range(1,len(x_lbls) + 1), x_lbls, size='small')\n",
    "plt.title(\"Ratios of Aggressive Driving by Weather Condition\")\n",
    "plt.ylabel('% of Aggressive Driving in Crashes')\n",
    "plt.xlabel('Weather Condition')\n",
    "plt.show()"
   ]
  },
  {
   "cell_type": "markdown",
   "metadata": {},
   "source": [
    "<h3>Weather with Speeding</h3>\n",
    "\n",
    "We will analyze the ratios of speeding vs. not speeding in comparison to different weather conditions within crashes."
   ]
  },
  {
   "cell_type": "code",
   "execution_count": 204,
   "metadata": {},
   "outputs": [
    {
     "name": "stdout",
     "output_type": "stream",
     "text": [
      "CONDITION:  1\n",
      "0    10151\n",
      "1      415\n",
      "Name: SPEEDING, dtype: int64\n",
      "CONDITION:  2\n",
      "0    1283\n",
      "1      37\n",
      "Name: SPEEDING, dtype: int64\n",
      "CONDITION:  3\n",
      "0    69\n",
      "1     2\n",
      "Name: SPEEDING, dtype: int64\n",
      "CONDITION:  4\n",
      "0    685\n",
      "1      8\n",
      "Name: SPEEDING, dtype: int64\n",
      "CONDITION:  5\n",
      "0    37\n",
      "Name: SPEEDING, dtype: int64\n",
      "CONDITION:  6\n",
      "0    19\n",
      "Name: SPEEDING, dtype: int64\n",
      "CONDITION:  7\n",
      "0    13\n",
      "Name: SPEEDING, dtype: int64\n"
     ]
    },
    {
     "data": {
      "text/plain": [
       "[0.03927692598902139,\n",
       " 0.02803030303030303,\n",
       " 0.028169014084507043,\n",
       " 0.011544011544011544,\n",
       " 0,\n",
       " 0,\n",
       " 0]"
      ]
     },
     "execution_count": 204,
     "metadata": {},
     "output_type": "execute_result"
    }
   ],
   "source": [
    "# Weather with speeding\n",
    "df_weather_speeding = df_weather_speed[['WEATHER','SPEEDING']]\n",
    "NUM_WEATHER_COND = 7; #ignore conditions (8: other, 9: unknown)\n",
    "\n",
    "# Calculate speeding ratios (speeding vs total)\n",
    "weather_spd_ratios = [0 for i in range(NUM_WEATHER_COND)]\n",
    "\n",
    "for i in range(1,NUM_WEATHER_COND + 1):\n",
    "    weather_spd = df_weather_speeding[df_weather_speeding['WEATHER'] == i]['SPEEDING']\n",
    "    df_vc = weather_spd.value_counts() #counts the number of 0s for no speeding, 1s for speeding\n",
    "    df_vc_idx = df_vc.index.tolist() #gets the values: [0, 1] in this case\n",
    "    if len(df_vc) > 1:\n",
    "        ratio = df_vc[1]/(df_vc[0] + df_vc[1]) #ratio of speeding vs total\n",
    "    else:\n",
    "        if df_vc_idx[0] == 0: #all accidents non speeding\n",
    "            ratio = 0;\n",
    "        else:\n",
    "            ratio = 1; #all accidents speeding\n",
    "    print(\"CONDITION: \", i)\n",
    "    print(df_vc) #print the value counts\n",
    "    weather_spd_ratios[i-1] = ratio\n",
    "\n",
    "# Print out ratios per weather condition\n",
    "weather_spd_ratios"
   ]
  },
  {
   "cell_type": "markdown",
   "metadata": {},
   "source": [
    "<h2>Analysis</h2>\n",
    "\n",
    "When determining the ratios above, we found that they were 0 in some cases. Taking a look at the value counts, we discovered that for certain weather conditions such as 5, 6, 7 (Fog, Rain & Fog, Hail & Fog respectively) had a very small number of accidents. Even under 30 accidents in two cases. So their ratios being 0 may not be entirely accurate. Even hail had a relatively small number of 69 with respect to the general range of the ratios (all being under 4%). Nonetheless, there does seem to be a trend of a lower tendency for speeding-related accidents in adverse conditions."
   ]
  },
  {
   "cell_type": "code",
   "execution_count": 205,
   "metadata": {},
   "outputs": [
    {
     "data": {
      "image/png": "[encoded data removed]",
      "text/plain": [
       "<matplotlib.figure.Figure at 0x225dfd8aac8>"
      ]
     },
     "metadata": {},
     "output_type": "display_data"
    }
   ],
   "source": [
    "# Bar graph of ratios of speeding per weather condition\n",
    "x_lbls = ['None','Rain', 'Hail', 'Snow', 'Fog', 'Rain & Fog', 'Hail & Fog']\n",
    "y = weather_spd_ratios\n",
    "\n",
    "plt.figure(figsize=(8,4))\n",
    "weather_agg_plt = plt.bar(range(1, len(x_lbls) + 1), y, width=0.6, color='orange')\n",
    "\n",
    "plt.xticks(range(1,len(x_lbls) + 1), x_lbls, size='small')\n",
    "plt.title(\"Ratio of Speeding to All Accidents by Weather Condition\")\n",
    "plt.ylabel('Ratio of Speeding to All Accidents')\n",
    "plt.xlabel('Weather Condition')\n",
    "\n",
    "plt.show()"
   ]
  },
  {
   "cell_type": "markdown",
   "metadata": {},
   "source": [
    "<h3>Amount of Accidents per Weather Condition</h3>\n",
    "\n",
    "We look at how many accidents occur overall in the dataset for each weather condition."
   ]
  },
  {
   "cell_type": "code",
   "execution_count": 206,
   "metadata": {},
   "outputs": [
    {
     "data": {
      "text/plain": [
       "<matplotlib.figure.Figure at 0x225def9dc18>"
      ]
     },
     "metadata": {},
     "output_type": "display_data"
    },
    {
     "data": {
      "image/png": "[encoded data removed]",
      "text/plain": [
       "<matplotlib.figure.Figure at 0x225df8c36a0>"
      ]
     },
     "metadata": {},
     "output_type": "display_data"
    }
   ],
   "source": [
    "# Calculate weather counts\n",
    "df_weather = df_weather_speed[df_weather_speed['WEATHER'] <= 7] #ignore conditions 8, 9\n",
    "weather_counts = df_weather['WEATHER'].value_counts().sort_index()\n",
    "\n",
    "# Pie graph of # of accidents per weather condition\n",
    "lbls = ['None','Rain', 'Hail', 'Snow', 'Fog', 'Rain & Fog', 'Hail & Fog']\n",
    "total_count = sum(weather_counts)\n",
    "\n",
    "# Appends the values to lbls (since some pie slices too small to see)\n",
    "for i in range(len(lbls)):\n",
    "    #lbls[i] += \" (\" + str('%0.2f' % (weather_counts[i+1]/total_count * 100)) + \"%)\" #percentages\n",
    "    lbls[i] += \" ( \" + str(weather_counts[i+1]) + \" )\" #counts\n",
    "    \n",
    "y = weather_counts\n",
    "plt.figure(figsize=(8,8));\n",
    "fig, ax = plt.subplots();\n",
    "patches, texts = ax.pie(y);\n",
    "plt.legend(patches, lbls);\n",
    "plt.title(\"Accidents per Weather Condition\")\n",
    "fig.set_size_inches(10,10);\n",
    "plt.show()"
   ]
  },
  {
   "cell_type": "markdown",
   "metadata": {},
   "source": [
    "# ILLUMINATION"
   ]
  },
  {
   "cell_type": "markdown",
   "metadata": {},
   "source": [
    "<h3>Illumination with Mean Injury Counts</h3>\n",
    "\n",
    "Now that we are done with weather, we look at patterns in crashes in correspondance to illumination levels."
   ]
  },
  {
   "cell_type": "code",
   "execution_count": 207,
   "metadata": {},
   "outputs": [
    {
     "data": {
      "text/plain": [
       "[0.6070865186263803,\n",
       " 0.4595744680851064,\n",
       " 0.517541316323572,\n",
       " 0.5799086757990868,\n",
       " 0.48258706467661694,\n",
       " 0.5555555555555556]"
      ]
     },
     "execution_count": 207,
     "metadata": {},
     "output_type": "execute_result"
    }
   ],
   "source": [
    "# Create dataframe for illumination conditions with injury counts\n",
    "df_light = df_trimmed[category_conditions + category_injury]\n",
    "df_light = df_light[['ILLUMINATION','INJURY_COUNT']]\n",
    "\n",
    "# Calculate mean injury counts per lighting condition\n",
    "df_light_mean = []\n",
    "df_light_1_mean =  df_light[df_light['ILLUMINATION']==1]['INJURY_COUNT'].mean() # Daylight\n",
    "df_light_2_mean =  df_light[df_light['ILLUMINATION']==2]['INJURY_COUNT'].mean() # Dark - no street light\n",
    "df_light_3_mean =  df_light[df_light['ILLUMINATION']==3]['INJURY_COUNT'].mean() # Dark - street light\n",
    "df_light_4_mean =  df_light[df_light['ILLUMINATION']==4]['INJURY_COUNT'].mean() # Dusk\n",
    "df_light_5_mean =  df_light[df_light['ILLUMINATION']==5]['INJURY_COUNT'].mean() # Dawn\n",
    "df_light_6_mean =  df_light[df_light['ILLUMINATION']==6]['INJURY_COUNT'].mean() # Dark - unknown roadway lighting\n",
    "\n",
    "# Append means to list\n",
    "df_light_mean.append(df_light_1_mean)\n",
    "df_light_mean.append(df_light_2_mean)\n",
    "df_light_mean.append(df_light_3_mean)\n",
    "df_light_mean.append(df_light_4_mean)\n",
    "df_light_mean.append(df_light_5_mean)\n",
    "df_light_mean.append(df_light_6_mean)\n",
    "\n",
    "# Print means per lighting condition\n",
    "df_light_mean"
   ]
  },
  {
   "cell_type": "code",
   "execution_count": 208,
   "metadata": {},
   "outputs": [
    {
     "data": {
      "image/png": "[encoded data removed]",
      "text/plain": [
       "<matplotlib.figure.Figure at 0x225dfd5ae10>"
      ]
     },
     "metadata": {},
     "output_type": "display_data"
    }
   ],
   "source": [
    "# Bar graph of ratios of mean injury counts per illumination condition\n",
    "x_lbls = ['Daylight','Dark - no street lights', 'Dark - street lights', 'Dusk', 'Dawn', 'Dark - unknown lighting']\n",
    "y = df_light_mean\n",
    "\n",
    "plt.figure(figsize=(11,3))\n",
    "ill_agg_plt = plt.bar(range(1, len(x_lbls) + 1), y, width=0.6, color='pink')\n",
    "\n",
    "plt.xticks(range(1,len(x_lbls) + 1), x_lbls, size='small')\n",
    "plt.title('Average Injury Count per Illumination Condition')\n",
    "plt.ylabel('Average Injury Count')\n",
    "plt.xlabel('Illumination Condition')\n",
    "\n",
    "plt.show()"
   ]
  },
  {
   "cell_type": "markdown",
   "metadata": {},
   "source": [
    "<h3>Illumination with Aggressive Driving</h3>\n",
    "\n",
    "We look at patterns in aggressive driving per illumination condition."
   ]
  },
  {
   "cell_type": "code",
   "execution_count": 209,
   "metadata": {},
   "outputs": [
    {
     "data": {
      "text/plain": [
       "[0.52323747118068198,\n",
       " 0.39432624113475179,\n",
       " 0.42853000869817337,\n",
       " 0.53881278538812782,\n",
       " 0.40298507462686567,\n",
       " 0.37037037037037035]"
      ]
     },
     "execution_count": 209,
     "metadata": {},
     "output_type": "execute_result"
    }
   ],
   "source": [
    "# Aggressive driving with illumination\n",
    "df_ill_aggressive = df_weather_speed[['ILLUMINATION','AGGRESSIVE_DRIVING']]\n",
    "\n",
    "# Calculate aggression with illumination\n",
    "df_ill_agg_ratio = []\n",
    "\n",
    "# Aggressive driving for daytime conditions\n",
    "df_ill_1_agg = df_ill_aggressive[df_ill_aggressive['ILLUMINATION'] == 1]['AGGRESSIVE_DRIVING'] \n",
    "df_ill_1_agg_ratio = df_ill_1_agg.value_counts()[1] / (df_ill_1_agg.value_counts()[0] + df_ill_1_agg.value_counts()[1])\n",
    "\n",
    "# Aggressive driving for dark, no street light conditions\n",
    "df_ill_2_agg = df_ill_aggressive[df_ill_aggressive['ILLUMINATION'] == 2]['AGGRESSIVE_DRIVING'] \n",
    "df_ill_2_agg_ratio = df_ill_2_agg.value_counts()[1] / (df_ill_2_agg.value_counts()[0] + df_ill_2_agg.value_counts()[1])\n",
    "\n",
    "# Aggressive driving for dark, with street light conditions\n",
    "df_ill_3_agg = df_ill_aggressive[df_ill_aggressive['ILLUMINATION'] == 3]['AGGRESSIVE_DRIVING'] \n",
    "df_ill_3_agg_ratio = df_ill_3_agg.value_counts()[1] / (df_ill_3_agg.value_counts()[0] + df_ill_3_agg.value_counts()[1])\n",
    "\n",
    "# Aggressive driving for dusk conditions\n",
    "df_ill_4_agg = df_ill_aggressive[df_ill_aggressive['ILLUMINATION'] == 4]['AGGRESSIVE_DRIVING'] \n",
    "df_ill_4_agg_ratio = df_ill_4_agg.value_counts()[1] / (df_ill_4_agg.value_counts()[0] + df_ill_4_agg.value_counts()[1])\n",
    "\n",
    "# Aggressive driving for dawn conditions\n",
    "df_ill_5_agg = df_ill_aggressive[df_ill_aggressive['ILLUMINATION'] == 5]['AGGRESSIVE_DRIVING'] \n",
    "df_ill_5_agg_ratio = df_ill_5_agg.value_counts()[1] / (df_ill_5_agg.value_counts()[0] + df_ill_5_agg.value_counts()[1])\n",
    "\n",
    "# Aggressive driving for dark, unknown conditions\n",
    "df_ill_6_agg = df_ill_aggressive[df_ill_aggressive['ILLUMINATION'] == 6]['AGGRESSIVE_DRIVING'] \n",
    "df_ill_6_agg_ratio = df_ill_6_agg.value_counts()[1] / (df_ill_6_agg.value_counts()[0] + df_ill_6_agg.value_counts()[1])\n",
    "\n",
    "# Append to list\n",
    "df_ill_agg_ratio.append(df_ill_1_agg_ratio)\n",
    "df_ill_agg_ratio.append(df_ill_2_agg_ratio)\n",
    "df_ill_agg_ratio.append(df_ill_3_agg_ratio)\n",
    "df_ill_agg_ratio.append(df_ill_4_agg_ratio)\n",
    "df_ill_agg_ratio.append(df_ill_5_agg_ratio)\n",
    "df_ill_agg_ratio.append(df_ill_6_agg_ratio)\n",
    "\n",
    "# Print out ratios per illumination condition\n",
    "df_ill_agg_ratio"
   ]
  },
  {
   "cell_type": "code",
   "execution_count": 210,
   "metadata": {},
   "outputs": [
    {
     "data": {
      "image/png": "[encoded data removed]",
      "text/plain": [
       "<matplotlib.figure.Figure at 0x225de349240>"
      ]
     },
     "metadata": {},
     "output_type": "display_data"
    }
   ],
   "source": [
    "# Bar graph of ratios of aggressive driving per illumination condition\n",
    "x_lbls = ['Daylight','Dark - no street lights', 'Dark - street lights', 'Dusk', 'Dawn', 'Dark - unknown lighting']\n",
    "y = df_ill_agg_ratio\n",
    "\n",
    "plt.figure(figsize=(11,3))\n",
    "ill_agg_plt = plt.bar(range(1, len(x_lbls) + 1), y, width=0.6, color='c')\n",
    "\n",
    "plt.xticks(range(1,len(x_lbls) + 1), x_lbls, size='small')\n",
    "plt.title('Ratios of Aggressive Driving by Illumination Condition')\n",
    "plt.ylabel('Ratio of Aggressive Driving')\n",
    "plt.xlabel('Illumination Condition')\n",
    "\n",
    "plt.show()"
   ]
  },
  {
   "cell_type": "markdown",
   "metadata": {},
   "source": [
    "<h3>Accidents per Illumination Condition</h3>\n",
    "\n",
    "We look at how many accidents per illumination condition make up a whole of the entire data."
   ]
  },
  {
   "cell_type": "code",
   "execution_count": 211,
   "metadata": {},
   "outputs": [
    {
     "data": {
      "image/png": "[encoded data removed]",
      "text/plain": [
       "<matplotlib.figure.Figure at 0x225dec32e48>"
      ]
     },
     "metadata": {},
     "output_type": "display_data"
    }
   ],
   "source": [
    "# Grab illumination counts\n",
    "df_illum = df_weather_speed[df_weather_speed['ILLUMINATION'] <= 6] #exclude other, uknown illumination conditions\n",
    "illum_counts = df_illum['ILLUMINATION'].value_counts().sort_index()\n",
    "\n",
    "# Pie graph of amount of occurrences per weather condition\n",
    "lbls = ['Daylight','Dark - no street lights', 'Dark - street lights', 'Dusk', 'Dawn', 'Dark - unknown lighting']\n",
    "total_count = sum(illum_counts)\n",
    "\n",
    "# Appends the percentage values to lbls (since some %s too small to see)\n",
    "for i in range(len(lbls)):\n",
    "    #lbls[i] += \" (\" + str('%0.2f' % (illum_counts[i+1]/total_count * 100)) + \"%)\" #percentages\n",
    "    lbls[i] += \" ( \" + str(illum_counts[i+1]) + \" )\" #values\n",
    "\n",
    "y = illum_counts\n",
    "fig, ax = plt.subplots();\n",
    "patches, texts = ax.pie(y);\n",
    "\n",
    "plt.legend(patches, lbls);\n",
    "plt.title(\"Accidents per Illumination Conditions\")\n",
    "fig.set_size_inches(10,10);\n",
    "\n",
    "plt.show()"
   ]
  },
  {
   "cell_type": "markdown",
   "metadata": {},
   "source": [
    "# ACCIDENTS PER MONTH\n",
    "\n",
    "We look at which months compromise of how many accidents."
   ]
  },
  {
   "cell_type": "code",
   "execution_count": 212,
   "metadata": {
    "collapsed": true
   },
   "outputs": [],
   "source": [
    "# Create dataframe for weather with month\n",
    "df_weather_time = df_trimmed[category_conditions + category_time]"
   ]
  },
  {
   "cell_type": "code",
   "execution_count": 213,
   "metadata": {},
   "outputs": [
    {
     "data": {
      "text/plain": [
       "1     1305\n",
       "2     1006\n",
       "3      904\n",
       "4     1035\n",
       "5     1038\n",
       "6     1044\n",
       "7      973\n",
       "8     1091\n",
       "9     1017\n",
       "10    1149\n",
       "11    1072\n",
       "12    1266\n",
       "Name: CRASH_MONTH, dtype: int64"
      ]
     },
     "execution_count": 213,
     "metadata": {},
     "output_type": "execute_result"
    }
   ],
   "source": [
    "df_month = df_weather_time[['CRASH_MONTH']]\n",
    "NUM_MONTH = 12;\n",
    "\n",
    "# Calculate speeding ratios (speeding vs total)\n",
    "month_counts = df_month['CRASH_MONTH'].value_counts().sort_index()\n",
    "\n",
    "# Print out ratios per weather condition\n",
    "month_counts"
   ]
  },
  {
   "cell_type": "code",
   "execution_count": 214,
   "metadata": {},
   "outputs": [
    {
     "data": {
      "image/png": "[encoded data removed]",
      "text/plain": [
       "<matplotlib.figure.Figure at 0x225deaee2e8>"
      ]
     },
     "metadata": {},
     "output_type": "display_data"
    }
   ],
   "source": [
    "# Graph accidents per month\n",
    "x_lbls = ['JAN', 'FEB', 'MAR', 'APR', 'MAY', 'JUN', 'JUL', 'AUG', 'SEP', 'OCT', 'NOV', 'DEC']\n",
    "y = month_counts\n",
    "\n",
    "plt.figure(figsize=(11,3))\n",
    "month_count_plt = plt.bar(range(1, len(x_lbls) + 1), y, width=0.6, color='c')\n",
    "plt.xticks(range(1,len(x_lbls) + 1), x_lbls, size='small')\n",
    "\n",
    "plt.title('Number of Accidents by Month')\n",
    "plt.ylabel('Number of Accidents')\n",
    "plt.xlabel('Month')\n",
    "\n",
    "plt.show()"
   ]
  },
  {
   "cell_type": "code",
   "execution_count": null,
   "metadata": {
    "collapsed": true
   },
   "outputs": [],
   "source": []
  },
  {
   "cell_type": "markdown",
   "metadata": {
    "collapsed": true
   },
   "source": [
    "# Data Analysis and Results:"
   ]
  },
  {
   "cell_type": "markdown",
   "metadata": {},
   "source": [
    "# Conclusion / Discussion:"
   ]
  },
  {
   "cell_type": "code",
   "execution_count": null,
   "metadata": {
    "collapsed": true
   },
   "outputs": [],
   "source": []
  }
 ],
 "metadata": {
  "kernelspec": {
   "display_name": "Python [default]",
   "language": "python",
   "name": "python3"
  },
  "language_info": {
   "codemirror_mode": {
    "name": "ipython",
    "version": 3
   },
   "file_extension": ".py",
   "mimetype": "text/x-python",
   "name": "python",
   "nbconvert_exporter": "python",
   "pygments_lexer": "ipython3",
   "version": "3.5.2"
  }
 },
 "nbformat": 4,
 "nbformat_minor": 2
}
