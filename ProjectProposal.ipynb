{
 "cells": [
  {
   "cell_type": "markdown",
   "metadata": {},
   "source": [
    "# COGS 108 - Assignment 4: Project Proposal"
   ]
  },
  {
   "cell_type": "markdown",
   "metadata": {},
   "source": [
    "## Important\n",
    "\n",
    "- Make sure all group member (3-5 people) are listed in the group members section.\n",
    "- ONE, and only one, member of your group should upload this notebook to TritonED. \n",
    "- Each member of the group will receive the same grade on this assignment. \n",
    "- Keep the file name the same: submit the file 'A4_ProjectProposal.ipynb'"
   ]
  },
  {
   "cell_type": "markdown",
   "metadata": {},
   "source": [
    "## Overview"
   ]
  },
  {
   "cell_type": "markdown",
   "metadata": {},
   "source": [
    "Read the project description, and detailed instructions for this assignment, in the 'A4_ProjectOutlineAndProposal' pdf."
   ]
  },
  {
   "cell_type": "markdown",
   "metadata": {},
   "source": [
    "## Group Members: Fill in the Student ID's of each group member here\n",
    "- A12112599\n",
    "- A11948171\n",
    "- A12102032\n",
    "- A12318209"
   ]
  },
  {
   "cell_type": "markdown",
   "metadata": {},
   "source": [
    "### Research Question\n",
    "\n",
    "What is your research question? (1-2 sentences)"
   ]
  },
  {
   "cell_type": "markdown",
   "metadata": {},
   "source": [
    "Is there a correlation that exists between the number of car accidents and environmental conditions such as weather and illumination? Are there any “hotspots” in the Allegheny county where the accidents occur?"
   ]
  },
  {
   "cell_type": "markdown",
   "metadata": {},
   "source": [
    "### Hypothesis\n",
    "\n",
    "What is your prediction (2-3 sentences)"
   ]
  },
  {
   "cell_type": "markdown",
   "metadata": {},
   "source": [
    "There most likely is a strong correlation between poor weather, location, level of illumination and the frequency of car accidents. Along with weather, we predict that additional factors such as drunk / distracted driving (e.g. drunk drivers cause more serious injuries than non-drunk drivers), driver age, time of day, etc would be likely to indicate a pattern in injury severity and overall crash frequency. Because of this correlation, we can find environmental conditions, accidents, and locations on the Allegheny county map where these accidents are most likely to occur, and output analyses that indicate how much specific factors contribute to accidents. "
   ]
  },
  {
   "cell_type": "markdown",
   "metadata": {},
   "source": [
    "### Dataset(s)\n",
    "\n",
    "What data will you use to answer your question? Describe the dataset in terms of number of observations, what kind of features it contains, etc. You must use at least one dataset containing at least approximately 1000 observations (if your data are smaller but you feel they are sufficient, email Prof. Voytek). You are welcome (and in fact recommended) to find multiple datasets! If you do so, describe each one, and briefly explain how you will combine them together. "
   ]
  },
  {
   "cell_type": "markdown",
   "metadata": {},
   "source": [
    "- Dataset Name: Allegheny County Crash Data\n",
    "- Link to the dataset: https://catalog.data.gov/dataset/allegheny-county-crash-data\n",
    "- Number of observations: 12900\n",
    "\n",
    "The 2016 Allegheny County Crash Data is a sizeable dataset with 187 features for each observation including the latitude and longitude location of the crash, the street name, the weather conditions, and various other driving/driver conditions that may contribute to the car crash occurring."
   ]
  },
  {
   "cell_type": "markdown",
   "metadata": {},
   "source": [
    "### Background & Prior Work\n",
    "\n",
    "Why is this question of interest, what background information led you to your hypothesis, and why is this important?\n",
    "\n",
    "Find some relevant prior work, and reference them. Even if you think you have a totally novel question, find the most similar prior work you can, and discuss how it relates to your project. \n",
    "\n",
    "References can be research publications, but they need not be: blogs, github repositories, company websites, etc., are viable references if they are relevant to your project.\n",
    "\n",
    "(2-3 paragraphs, including at least 2 references)"
   ]
  },
  {
   "cell_type": "markdown",
   "metadata": {},
   "source": [
    "The importance of preventing and understanding car accidents is a key issue worthy of further study. Car accidents remain commonplace throughout the United States and remain one of the leading causes of death. Any method that further reduces the rate of incidence of accidents will be beneficial towards advancing civic utility. While the analysis is limited to a small area, by using a heatmap to find accident “problem areas” within the Allegheny county, public services can better prevent weather related accidents through hazard signage, increased road maintenance, and increased police positioning around these areas.\n",
    "\n",
    "Many factors can be responsible for accidental crashes. According to the Critical Reasons for Crashes Investigated in the National Motor Vehicle Crash Causation Survey (2015), for the 5470 weighted samples, about 50% of the critical reasons for car crashes are slick roads (such as loose debris, ice, etc), while fog/rain/snow makes up only about 4% of crashes. Note that these are not the “primary causes” of the car crashes, just the “immediate reason for the critical pre-crash event and is often the last failure in the causal chain of events leading up to the crash.” In addition, according to the Road Weather Management Program’s site’s “How Do Weather Events Impact Roads?”, precipitation causes a loss of vehicle traction and lessens visibility along with fog. The website also states that 22% of crashes from 2005-2014 involve poor weather, including slick road conditions. Wet pavement, rain, and snow/sleet are involved in 73%, 46% and 17%, of weather related crashes. \n",
    "\n",
    "Given this background information, we hypothesis that there is a correlation between the number of accidents and weather conditions, especially those that involve slick roads. We also hope to find if these findings translate to a strong correlation between adverse weather and accidents in a smaller scale.\n",
    "\n",
    "\n",
    "References (include a link):\n",
    "- 1)Critical Reasons for Crashes Investigated in the National Motor Vehicle Crash Causation Survey\n",
    "    https://crashstats.nhtsa.dot.gov/Api/Public/ViewPublication/812115\n",
    "- 2)How Do Weather Events Impact Roads?\n",
    "    https://ops.fhwa.dot.gov/weather/q1_roadimpact.htm"
   ]
  },
  {
   "cell_type": "markdown",
   "metadata": {},
   "source": [
    "### Proposed Methods\n",
    "\n",
    "What methods will you use to analyze your data?\n",
    "\n",
    "- How 'clean' is the data? To the extent that it requires cleaning, how will you do so?\n",
    "- How will you analyze the data? Be as specific as you can. Briefly mention any pre-processing steps that are required for your methods (for example, checking data distributions and performing any transformations that may be required). Include a brief outline of how you will apply your chosen method(s). \n",
    "- What do you plan to report? Briefly mention any key visualizations you plan to create, and/or the kind of result you will be able to report that addresses your question (this could be, for example, the outcome of some statistical test(s), prediction error on a model, a model fit parameter, etc.).\n",
    "- Include a list of packages you expect to use for you project. If you plan to use packages we have not used in class, add a very brief description about them (a few words is sufficient). "
   ]
  },
  {
   "cell_type": "markdown",
   "metadata": {},
   "source": [
    "*Data Cleaning (2-3 sentences)*\n",
    "Considering the sheer volume of extraneous data including categories such as what the vehicle hit, the data must be trimmed and cleaned. This will be accomplished using the Python pandas library to drop any invalid or extraneous data by saving a modified data frame variant of it. \n",
    "\n",
    "*Data Analysis (1-2 paragraphs)*\n",
    "Any other preprocessing will mainly involve translating numerical representations of the data such as the weather conditions into its actual definition (for example the number 1 in the “weather” feature represents normal weather conditions) and then organize these definitions into another dataset/dataframe.\n",
    "\n",
    "We propose for our analyses several potential points of interest including plotting accidents on the Google Maps API and representing accident rates and points of interest within Allegheny (intersections with high accident rates, etc.) through heat maps and points. Heat maps can also be generated under different conditions (e.g. heat map only for Allegheny crashes in rainy weather, slick roads, and other relevant conditions). We may also find an overall mean, median, and average of factors like illumination and weather conditions throughout the entire dataset. We also may collate overall crash data such as time most likely to suffer a car crash, average injury severity level, average amount of victims and/or find correlations and patterns between weather and injury severity, looking at the mean for injuries and fatalities for each weather condition. For example, we may find and report that crashes on rainy days on average result in 20% more fatalities than sunny days. Another approach to analyzing the data would be to create a model (possibly linear) between driver age and accident rates, comparing injury severity for distracted \n",
    "\n",
    "*What to report (2-3 sentences)*\n",
    "We will report heatmaps of the Allegheny county that incorporate both the car accident locations and all the various conditions that cause these crashes. Individual heat maps that only incorporate one of each car accident condition (such as slick roads, rain, snow, etc) will also be reported.\n",
    "\n",
    "Packages we plan to use:\n",
    "- a gmplot\n",
    "- b gmaps\n",
    "- c matplotlib/seaborn\n",
    "- d pandas\n",
    "- e numpy\n",
    "- f anaconda"
   ]
  },
  {
   "cell_type": "markdown",
   "metadata": {},
   "source": [
    "### Discussion\n",
    "\n",
    "What are the pitfalls and potential confounds of your data and/or methods? For example, how might biases in your data sources or analyses influence your interpretations? What will you do if you methods don't work and/or your hypotheses are wrong?\n",
    "\n",
    "(2-3 paragraphs)"
   ]
  },
  {
   "cell_type": "markdown",
   "metadata": {},
   "source": [
    "While strong correlations may come from analyzing the relationship between driving conditions and car crashes, it is also important to not let strong trends in the data to influence hasty assumptions about what conditions are more likely to cause car crashes. For example, in a hypothetical scenario, suppose Allegheny has a mostly sunny climate and rarely rains. If we were to find that there are more car crashes during sunny weather as compared to rainy weather, it would be a potential confound to state that sunny weather is a more dangerous environment than rainy weather. In our analyses we will attempt to avoid any possible biases similar to above that may skew our understanding and interpretation of the data.\n",
    "\n",
    "It is also important to remember that a car crash can have multiple attributed reasons that lead up to the actual car crash. The dataset we have will not tell us the “critical reason,” so it is also wise to keep in mind that not one single feature in the dataset may be the sole “cause” of a car crash. This data analysis is not meant to find the underlying causes of all car crashes; it is meant to relate certain variables that may cause car crashes with what actually occurs in the crash itself.\n",
    "\n",
    "If no reasonable association can be made between adverse weather conditions, locations and other points of interest  in the Allegheny county, then we will still have other pieces of data that may give useful information and correlations about the car accidents such as age, cellphone use, substance abuse, reckless driving, etc. No dataset switching is necessary as these features are also present within the Allegheny County dataset; we have a reasonable amount of data to work with in case any issues occur."
   ]
  }
 ],
 "metadata": {
  "kernelspec": {
   "display_name": "Python 3",
   "language": "python",
   "name": "python3"
  },
  "language_info": {
   "codemirror_mode": {
    "name": "ipython",
    "version": 3
   },
   "file_extension": ".py",
   "mimetype": "text/x-python",
   "name": "python",
   "nbconvert_exporter": "python",
   "pygments_lexer": "ipython3",
   "version": "3.6.0"
  }
 },
 "nbformat": 4,
 "nbformat_minor": 2
}
